{
 "cells": [
  {
   "cell_type": "code",
   "execution_count": 105,
   "id": "eed06b0c",
   "metadata": {},
   "outputs": [],
   "source": [
    "import numpy as np\n",
    "import pandas as pd"
   ]
  },
  {
   "cell_type": "markdown",
   "id": "562023b8",
   "metadata": {},
   "source": [
    "# Reading Dataset"
   ]
  },
  {
   "cell_type": "code",
   "execution_count": 106,
   "id": "71e9b32a",
   "metadata": {},
   "outputs": [],
   "source": [
    "dataset = pd.read_csv(\"C:\\\\Users\\\\nsp27\\\\Desktop\\\\final\\\\data set\\\\25.csv\")"
   ]
  },
  {
   "cell_type": "code",
   "execution_count": 107,
   "id": "6ef0643d",
   "metadata": {},
   "outputs": [
    {
     "data": {
      "text/html": [
       "<div>\n",
       "<style scoped>\n",
       "    .dataframe tbody tr th:only-of-type {\n",
       "        vertical-align: middle;\n",
       "    }\n",
       "\n",
       "    .dataframe tbody tr th {\n",
       "        vertical-align: top;\n",
       "    }\n",
       "\n",
       "    .dataframe thead th {\n",
       "        text-align: right;\n",
       "    }\n",
       "</style>\n",
       "<table border=\"1\" class=\"dataframe\">\n",
       "  <thead>\n",
       "    <tr style=\"text-align: right;\">\n",
       "      <th></th>\n",
       "      <th>days</th>\n",
       "      <th>step_count</th>\n",
       "      <th>mood</th>\n",
       "      <th>calories_burned</th>\n",
       "      <th>hours_of_sleep</th>\n",
       "      <th>bool_of_active</th>\n",
       "      <th>weight_kg</th>\n",
       "    </tr>\n",
       "  </thead>\n",
       "  <tbody>\n",
       "    <tr>\n",
       "      <th>0</th>\n",
       "      <td>1</td>\n",
       "      <td>5464</td>\n",
       "      <td>200</td>\n",
       "      <td>181</td>\n",
       "      <td>5</td>\n",
       "      <td>0</td>\n",
       "      <td>66</td>\n",
       "    </tr>\n",
       "    <tr>\n",
       "      <th>1</th>\n",
       "      <td>2</td>\n",
       "      <td>6041</td>\n",
       "      <td>100</td>\n",
       "      <td>197</td>\n",
       "      <td>8</td>\n",
       "      <td>0</td>\n",
       "      <td>66</td>\n",
       "    </tr>\n",
       "    <tr>\n",
       "      <th>2</th>\n",
       "      <td>3</td>\n",
       "      <td>25</td>\n",
       "      <td>100</td>\n",
       "      <td>0</td>\n",
       "      <td>5</td>\n",
       "      <td>0</td>\n",
       "      <td>66</td>\n",
       "    </tr>\n",
       "    <tr>\n",
       "      <th>3</th>\n",
       "      <td>4</td>\n",
       "      <td>5461</td>\n",
       "      <td>100</td>\n",
       "      <td>174</td>\n",
       "      <td>4</td>\n",
       "      <td>0</td>\n",
       "      <td>66</td>\n",
       "    </tr>\n",
       "    <tr>\n",
       "      <th>4</th>\n",
       "      <td>5</td>\n",
       "      <td>6915</td>\n",
       "      <td>200</td>\n",
       "      <td>223</td>\n",
       "      <td>5</td>\n",
       "      <td>500</td>\n",
       "      <td>66</td>\n",
       "    </tr>\n",
       "  </tbody>\n",
       "</table>\n",
       "</div>"
      ],
      "text/plain": [
       "   days  step_count  mood  calories_burned  hours_of_sleep  bool_of_active  \\\n",
       "0     1        5464   200              181               5               0   \n",
       "1     2        6041   100              197               8               0   \n",
       "2     3          25   100                0               5               0   \n",
       "3     4        5461   100              174               4               0   \n",
       "4     5        6915   200              223               5             500   \n",
       "\n",
       "   weight_kg  \n",
       "0         66  \n",
       "1         66  \n",
       "2         66  \n",
       "3         66  \n",
       "4         66  "
      ]
     },
     "execution_count": 107,
     "metadata": {},
     "output_type": "execute_result"
    }
   ],
   "source": [
    "dataset.head()"
   ]
  },
  {
   "cell_type": "markdown",
   "id": "81d523d3",
   "metadata": {},
   "source": [
    "# finding the correlation"
   ]
  },
  {
   "cell_type": "code",
   "execution_count": 108,
   "id": "5ae444dc",
   "metadata": {},
   "outputs": [
    {
     "data": {
      "text/html": [
       "<div>\n",
       "<style scoped>\n",
       "    .dataframe tbody tr th:only-of-type {\n",
       "        vertical-align: middle;\n",
       "    }\n",
       "\n",
       "    .dataframe tbody tr th {\n",
       "        vertical-align: top;\n",
       "    }\n",
       "\n",
       "    .dataframe thead th {\n",
       "        text-align: right;\n",
       "    }\n",
       "</style>\n",
       "<table border=\"1\" class=\"dataframe\">\n",
       "  <thead>\n",
       "    <tr style=\"text-align: right;\">\n",
       "      <th></th>\n",
       "      <th>days</th>\n",
       "      <th>step_count</th>\n",
       "      <th>mood</th>\n",
       "      <th>calories_burned</th>\n",
       "      <th>hours_of_sleep</th>\n",
       "      <th>bool_of_active</th>\n",
       "      <th>weight_kg</th>\n",
       "    </tr>\n",
       "  </thead>\n",
       "  <tbody>\n",
       "    <tr>\n",
       "      <th>days</th>\n",
       "      <td>1.000000</td>\n",
       "      <td>-0.207169</td>\n",
       "      <td>0.033786</td>\n",
       "      <td>-0.237607</td>\n",
       "      <td>-0.343793</td>\n",
       "      <td>0.306128</td>\n",
       "      <td>-0.658497</td>\n",
       "    </tr>\n",
       "    <tr>\n",
       "      <th>step_count</th>\n",
       "      <td>-0.207169</td>\n",
       "      <td>1.000000</td>\n",
       "      <td>0.246738</td>\n",
       "      <td>0.989260</td>\n",
       "      <td>0.080687</td>\n",
       "      <td>0.120212</td>\n",
       "      <td>0.109404</td>\n",
       "    </tr>\n",
       "    <tr>\n",
       "      <th>mood</th>\n",
       "      <td>0.033786</td>\n",
       "      <td>0.246738</td>\n",
       "      <td>1.000000</td>\n",
       "      <td>0.235044</td>\n",
       "      <td>0.210417</td>\n",
       "      <td>0.379646</td>\n",
       "      <td>-0.458776</td>\n",
       "    </tr>\n",
       "    <tr>\n",
       "      <th>calories_burned</th>\n",
       "      <td>-0.237607</td>\n",
       "      <td>0.989260</td>\n",
       "      <td>0.235044</td>\n",
       "      <td>1.000000</td>\n",
       "      <td>0.080726</td>\n",
       "      <td>0.110900</td>\n",
       "      <td>0.112200</td>\n",
       "    </tr>\n",
       "    <tr>\n",
       "      <th>hours_of_sleep</th>\n",
       "      <td>-0.343793</td>\n",
       "      <td>0.080687</td>\n",
       "      <td>0.210417</td>\n",
       "      <td>0.080726</td>\n",
       "      <td>1.000000</td>\n",
       "      <td>0.136603</td>\n",
       "      <td>0.189118</td>\n",
       "    </tr>\n",
       "    <tr>\n",
       "      <th>bool_of_active</th>\n",
       "      <td>0.306128</td>\n",
       "      <td>0.120212</td>\n",
       "      <td>0.379646</td>\n",
       "      <td>0.110900</td>\n",
       "      <td>0.136603</td>\n",
       "      <td>1.000000</td>\n",
       "      <td>-0.296443</td>\n",
       "    </tr>\n",
       "    <tr>\n",
       "      <th>weight_kg</th>\n",
       "      <td>-0.658497</td>\n",
       "      <td>0.109404</td>\n",
       "      <td>-0.458776</td>\n",
       "      <td>0.112200</td>\n",
       "      <td>0.189118</td>\n",
       "      <td>-0.296443</td>\n",
       "      <td>1.000000</td>\n",
       "    </tr>\n",
       "  </tbody>\n",
       "</table>\n",
       "</div>"
      ],
      "text/plain": [
       "                     days  step_count      mood  calories_burned  \\\n",
       "days             1.000000   -0.207169  0.033786        -0.237607   \n",
       "step_count      -0.207169    1.000000  0.246738         0.989260   \n",
       "mood             0.033786    0.246738  1.000000         0.235044   \n",
       "calories_burned -0.237607    0.989260  0.235044         1.000000   \n",
       "hours_of_sleep  -0.343793    0.080687  0.210417         0.080726   \n",
       "bool_of_active   0.306128    0.120212  0.379646         0.110900   \n",
       "weight_kg       -0.658497    0.109404 -0.458776         0.112200   \n",
       "\n",
       "                 hours_of_sleep  bool_of_active  weight_kg  \n",
       "days                  -0.343793        0.306128  -0.658497  \n",
       "step_count             0.080687        0.120212   0.109404  \n",
       "mood                   0.210417        0.379646  -0.458776  \n",
       "calories_burned        0.080726        0.110900   0.112200  \n",
       "hours_of_sleep         1.000000        0.136603   0.189118  \n",
       "bool_of_active         0.136603        1.000000  -0.296443  \n",
       "weight_kg              0.189118       -0.296443   1.000000  "
      ]
     },
     "execution_count": 108,
     "metadata": {},
     "output_type": "execute_result"
    }
   ],
   "source": [
    "dataset.corr()"
   ]
  },
  {
   "cell_type": "markdown",
   "id": "ddf9156e",
   "metadata": {},
   "source": [
    "# Data Preprocessing and checking for null values"
   ]
  },
  {
   "cell_type": "code",
   "execution_count": 109,
   "id": "2c31957b",
   "metadata": {},
   "outputs": [
    {
     "data": {
      "text/plain": [
       "days               False\n",
       "step_count         False\n",
       "mood               False\n",
       "calories_burned    False\n",
       "hours_of_sleep     False\n",
       "bool_of_active     False\n",
       "weight_kg          False\n",
       "dtype: bool"
      ]
     },
     "execution_count": 109,
     "metadata": {},
     "output_type": "execute_result"
    }
   ],
   "source": [
    "dataset.isnull().any()"
   ]
  },
  {
   "cell_type": "code",
   "execution_count": 110,
   "id": "086811c5",
   "metadata": {},
   "outputs": [
    {
     "data": {
      "text/plain": [
       "days               0\n",
       "step_count         0\n",
       "mood               0\n",
       "calories_burned    0\n",
       "hours_of_sleep     0\n",
       "bool_of_active     0\n",
       "weight_kg          0\n",
       "dtype: int64"
      ]
     },
     "execution_count": 110,
     "metadata": {},
     "output_type": "execute_result"
    }
   ],
   "source": [
    "dataset.isnull().sum()"
   ]
  },
  {
   "cell_type": "code",
   "execution_count": 111,
   "id": "1ba22813",
   "metadata": {},
   "outputs": [
    {
     "data": {
      "text/plain": [
       "<AxesSubplot:>"
      ]
     },
     "execution_count": 111,
     "metadata": {},
     "output_type": "execute_result"
    },
    {
     "data": {
      "image/png": "[encoded data removed]",
      "text/plain": [
       "<Figure size 432x288 with 1 Axes>"
      ]
     },
     "metadata": {
      "needs_background": "light"
     },
     "output_type": "display_data"
    }
   ],
   "source": [
    "sns.heatmap(dataset.isnull(),cbar=False)"
   ]
  },
  {
   "cell_type": "code",
   "execution_count": 112,
   "id": "fa7c93e1",
   "metadata": {},
   "outputs": [],
   "source": [
    "import seaborn as sns"
   ]
  },
  {
   "cell_type": "code",
   "execution_count": 113,
   "id": "12db419c",
   "metadata": {},
   "outputs": [
    {
     "data": {
      "text/plain": [
       "<AxesSubplot:>"
      ]
     },
     "execution_count": 113,
     "metadata": {},
     "output_type": "execute_result"
    },
    {
     "data": {
      "image/png": "[encoded data removed]",
      "text/plain": [
       "<Figure size 432x288 with 1 Axes>"
      ]
     },
     "metadata": {
      "needs_background": "light"
     },
     "output_type": "display_data"
    }
   ],
   "source": [
    "dataset['step_count'].hist()"
   ]
  },
  {
   "cell_type": "code",
   "execution_count": 114,
   "id": "42a2c6e3",
   "metadata": {},
   "outputs": [
    {
     "data": {
      "text/plain": [
       "<AxesSubplot:>"
      ]
     },
     "execution_count": 114,
     "metadata": {},
     "output_type": "execute_result"
    },
    {
     "data": {
      "image/png": "[encoded data removed]",
      "text/plain": [
       "<Figure size 432x288 with 1 Axes>"
      ]
     },
     "metadata": {
      "needs_background": "light"
     },
     "output_type": "display_data"
    }
   ],
   "source": [
    "dataset['calories_burned'].hist()"
   ]
  },
  {
   "cell_type": "code",
   "execution_count": 115,
   "id": "c7003dc6",
   "metadata": {},
   "outputs": [
    {
     "data": {
      "text/plain": [
       "<AxesSubplot:>"
      ]
     },
     "execution_count": 115,
     "metadata": {},
     "output_type": "execute_result"
    },
    {
     "data": {
      "image/png": "[encoded data removed]",
      "text/plain": [
       "<Figure size 432x288 with 1 Axes>"
      ]
     },
     "metadata": {
      "needs_background": "light"
     },
     "output_type": "display_data"
    }
   ],
   "source": [
    "dataset['weight_kg'].hist()"
   ]
  },
  {
   "cell_type": "code",
   "execution_count": 116,
   "id": "1c3ddacb",
   "metadata": {},
   "outputs": [
    {
     "data": {
      "text/plain": [
       "<AxesSubplot:>"
      ]
     },
     "execution_count": 116,
     "metadata": {},
     "output_type": "execute_result"
    },
    {
     "data": {
      "image/png": "[encoded data removed]",
      "text/plain": [
       "<Figure size 432x288 with 1 Axes>"
      ]
     },
     "metadata": {
      "needs_background": "light"
     },
     "output_type": "display_data"
    }
   ],
   "source": [
    "dataset['hours_of_sleep'].hist()"
   ]
  },
  {
   "cell_type": "markdown",
   "id": "8ade3ace",
   "metadata": {},
   "source": [
    "# Splitting The Dataset Into Dependent And Independent Variables"
   ]
  },
  {
   "cell_type": "code",
   "execution_count": 117,
   "id": "d144b6ac",
   "metadata": {},
   "outputs": [],
   "source": [
    "x = dataset.iloc[:,1:7].values\n",
    "y = dataset.iloc[:,0].values"
   ]
  },
  {
   "cell_type": "code",
   "execution_count": 118,
   "id": "80e7bc3c",
   "metadata": {},
   "outputs": [
    {
     "data": {
      "text/plain": [
       "array([[5464,  200,  181,    5,    0,   66],\n",
       "       [6041,  100,  197,    8,    0,   66],\n",
       "       [  25,  100,    0,    5,    0,   66],\n",
       "       [5461,  100,  174,    4,    0,   66],\n",
       "       [6915,  200,  223,    5,  500,   66],\n",
       "       [4545,  100,  149,    6,    0,   66],\n",
       "       [4340,  100,  140,    6,    0,   66],\n",
       "       [1230,  100,   38,    7,    0,   66],\n",
       "       [  61,  100,    1,    5,    0,   66],\n",
       "       [1258,  100,   40,    6,    0,   65],\n",
       "       [3148,  100,  101,    8,    0,   65],\n",
       "       [4687,  100,  152,    5,    0,   65],\n",
       "       [4732,  300,  150,    6,  500,   65],\n",
       "       [3519,  100,  113,    7,    0,   65],\n",
       "       [1580,  100,   49,    5,    0,   65],\n",
       "       [2822,  100,   86,    6,    0,   65],\n",
       "       [ 181,  100,    6,    8,    0,   65],\n",
       "       [3158,  200,   99,    5,    0,   65],\n",
       "       [4383,  200,  143,    4,    0,   64],\n",
       "       [3881,  200,  125,    5,    0,   64],\n",
       "       [4037,  200,  129,    6,    0,   64],\n",
       "       [ 202,  200,    6,    8,    0,   64],\n",
       "       [ 292,  200,    9,    5,    0,   64],\n",
       "       [ 330,  300,   10,    6,    0,   64],\n",
       "       [2209,  200,   72,    5,    0,   64],\n",
       "       [4550,  300,  150,    8,  500,   64],\n",
       "       [4435,  300,  141,    5,    0,   64],\n",
       "       [4779,  300,  156,    4,    0,   64],\n",
       "       [1831,  300,   57,    5,    0,   64],\n",
       "       [2255,  300,   72,    4,    0,   64],\n",
       "       [ 539,  300,   17,    5,  500,   64],\n",
       "       [5464,  300,  181,    4,    0,   64],\n",
       "       [6041,  200,  197,    3,    0,   64],\n",
       "       [4068,  300,  131,    2,    0,   64],\n",
       "       [4683,  300,  154,    9,    0,   64],\n",
       "       [4033,  300,  137,    5,    0,   64],\n",
       "       [6314,  300,  193,    6,  500,   64],\n",
       "       [ 614,  300,   19,    4,  500,   64],\n",
       "       [3149,  300,  101,    5,  500,   64],\n",
       "       [4005,  300,  139,    8,  500,   64],\n",
       "       [4880,  300,  164,    4,  500,   64],\n",
       "       [4136,  300,  137,    5,  500,   64],\n",
       "       [ 705,  300,   22,    6,  500,   64],\n",
       "       [ 570,  200,   17,    5,  500,   64],\n",
       "       [ 269,  300,    9,    6,  500,   64],\n",
       "       [4275,  300,  145,    5,    0,   64],\n",
       "       [5999,  300,  192,    6,    0,   64],\n",
       "       [4421,  300,  146,    5,    0,   64],\n",
       "       [6930,  300,  234,    6,    0,   64],\n",
       "       [5195,  300,  167,    5,    0,   64],\n",
       "       [ 546,  300,   16,    6,    0,   64],\n",
       "       [ 493,  300,   17,    7,  500,   64],\n",
       "       [ 995,  300,   32,    6,  500,   64],\n",
       "       [1163,  200,   35,    7,  500,   64],\n",
       "       [6676,  100,  220,    6,  500,   64],\n",
       "       [3608,  300,  116,    5,  500,   64],\n",
       "       [ 774,  300,   23,    6,  500,   64],\n",
       "       [1421,  300,   44,    7,  500,   64],\n",
       "       [4064,  300,  131,    8,  500,   64],\n",
       "       [2725,  300,   86,    8,  500,   64],\n",
       "       [5934,  300,  194,    7,  500,   64],\n",
       "       [1867,  300,   60,    8,  500,   64],\n",
       "       [3721,  100,  121,    5,  500,   64],\n",
       "       [2374,  200,   76,    4,    0,   64],\n",
       "       [2909,  200,   93,    3,  500,   64],\n",
       "       [1648,  100,   53,    3,  500,   64],\n",
       "       [ 799,  100,   25,    4,    0,   64],\n",
       "       [7102,  200,  227,    5,  500,   64],\n",
       "       [3941,  200,  125,    5,  500,   64],\n",
       "       [7422,  300,  243,    5,  500,   64],\n",
       "       [ 437,  200,   14,    3,  500,   64],\n",
       "       [1231,  200,   39,    4,  500,   64],\n",
       "       [1696,  100,   55,    4,    0,   64],\n",
       "       [4921,  200,  158,    5,  500,   64],\n",
       "       [ 221,  100,    7,    5,  500,   64],\n",
       "       [6500,  200,  213,    5,  500,   64],\n",
       "       [3575,  200,  116,    5,  500,   64],\n",
       "       [4061,  100,  129,    5,    0,   64],\n",
       "       [ 651,  100,   21,    5,    0,   64],\n",
       "       [ 753,  100,   28,    4,    0,   64],\n",
       "       [ 518,  100,   16,    3,    0,   64],\n",
       "       [5537,  300,  180,    4,  500,   64],\n",
       "       [4108,  200,  138,    5,  500,   64],\n",
       "       [5376,  300,  176,    5,  500,   64],\n",
       "       [3066,  200,   99,    4,  500,   64],\n",
       "       [ 177,  100,    5,    5,    0,   64],\n",
       "       [  36,  100,    1,    3,    0,   64],\n",
       "       [ 299,  100,   10,    3,    0,   64],\n",
       "       [1447,  200,   47,    3,    0,   64],\n",
       "       [2599,  200,   84,    2,    0,   64],\n",
       "       [ 702,  100,   23,    3,    0,   64],\n",
       "       [ 133,  100,    4,    2,    0,   64],\n",
       "       [ 153,  300,    0,    8,    0,   64],\n",
       "       [ 500,  200,    0,    5,  500,   64],\n",
       "       [2127,  200,    0,    5,    0,   64],\n",
       "       [2203,  300,    0,    5,  500,   64]], dtype=int64)"
      ]
     },
     "execution_count": 118,
     "metadata": {},
     "output_type": "execute_result"
    }
   ],
   "source": [
    "x"
   ]
  },
  {
   "cell_type": "code",
   "execution_count": 119,
   "id": "eb83959b",
   "metadata": {},
   "outputs": [
    {
     "data": {
      "text/plain": [
       "array([ 1,  2,  3,  4,  5,  6,  7,  8,  9, 10, 11, 12, 13, 14, 15, 16, 17,\n",
       "       18, 19, 20, 21, 22, 23, 24, 25, 26, 27, 28, 29, 30, 31, 32, 33, 34,\n",
       "       35, 36, 37, 38, 39, 40, 41, 42, 43, 44, 45, 46, 47, 48, 49, 50, 51,\n",
       "       52, 53, 54, 55, 56, 57, 58, 59, 60, 61, 62, 63, 64, 65, 66, 67, 68,\n",
       "       69, 70, 71, 72, 73, 74, 75, 76, 77, 78, 79, 80, 81, 82, 83, 84, 85,\n",
       "       86, 87, 88, 89, 90, 91, 92, 93, 94, 95, 96], dtype=int64)"
      ]
     },
     "execution_count": 119,
     "metadata": {},
     "output_type": "execute_result"
    }
   ],
   "source": [
    "y"
   ]
  },
  {
   "cell_type": "markdown",
   "id": "39321f2e",
   "metadata": {},
   "source": [
    "# Split The Dataset Into Train Set And Test Set"
   ]
  },
  {
   "cell_type": "code",
   "execution_count": 120,
   "id": "b7127c65",
   "metadata": {},
   "outputs": [],
   "source": [
    "from sklearn.model_selection import train_test_split\n",
    "x_train,x_test,y_train,y_test = train_test_split(x,y,test_size = 0.1,random_state= 0)"
   ]
  },
  {
   "cell_type": "code",
   "execution_count": 121,
   "id": "dac029bd",
   "metadata": {},
   "outputs": [
    {
     "data": {
      "text/plain": [
       "array([[1163,  200,   35,    7,  500,   64],\n",
       "       [1447,  200,   47,    3,    0,   64],\n",
       "       [1231,  200,   39,    4,  500,   64],\n",
       "       [3519,  100,  113,    7,    0,   65],\n",
       "       [1230,  100,   38,    7,    0,   66],\n",
       "       [ 539,  300,   17,    5,  500,   64],\n",
       "       [ 292,  200,    9,    5,    0,   64],\n",
       "       [2209,  200,   72,    5,    0,   64],\n",
       "       [4068,  300,  131,    2,    0,   64],\n",
       "       [  61,  100,    1,    5,    0,   66],\n",
       "       [ 570,  200,   17,    5,  500,   64],\n",
       "       [3721,  100,  121,    5,  500,   64],\n",
       "       [5461,  100,  174,    4,    0,   66],\n",
       "       [  36,  100,    1,    3,    0,   64],\n",
       "       [4275,  300,  145,    5,    0,   64],\n",
       "       [6930,  300,  234,    6,    0,   64],\n",
       "       [4340,  100,  140,    6,    0,   66],\n",
       "       [2203,  300,    0,    5,  500,   64],\n",
       "       [ 518,  100,   16,    3,    0,   64],\n",
       "       [6500,  200,  213,    5,  500,   64],\n",
       "       [5934,  300,  194,    7,  500,   64],\n",
       "       [ 753,  100,   28,    4,    0,   64],\n",
       "       [ 177,  100,    5,    5,    0,   64],\n",
       "       [ 133,  100,    4,    2,    0,   64],\n",
       "       [ 493,  300,   17,    7,  500,   64],\n",
       "       [4779,  300,  156,    4,    0,   64],\n",
       "       [4383,  200,  143,    4,    0,   64],\n",
       "       [ 774,  300,   23,    6,  500,   64],\n",
       "       [2374,  200,   76,    4,    0,   64],\n",
       "       [4921,  200,  158,    5,  500,   64],\n",
       "       [6041,  100,  197,    8,    0,   66],\n",
       "       [1867,  300,   60,    8,  500,   64],\n",
       "       [ 705,  300,   22,    6,  500,   64],\n",
       "       [4136,  300,  137,    5,  500,   64],\n",
       "       [6915,  200,  223,    5,  500,   66],\n",
       "       [2822,  100,   86,    6,    0,   65],\n",
       "       [3158,  200,   99,    5,    0,   65],\n",
       "       [4880,  300,  164,    4,  500,   64],\n",
       "       [3149,  300,  101,    5,  500,   64],\n",
       "       [4545,  100,  149,    6,    0,   66],\n",
       "       [ 299,  100,   10,    3,    0,   64],\n",
       "       [2725,  300,   86,    8,  500,   64],\n",
       "       [5464,  200,  181,    5,    0,   66],\n",
       "       [4683,  300,  154,    9,    0,   64],\n",
       "       [1831,  300,   57,    5,    0,   64],\n",
       "       [ 546,  300,   16,    6,    0,   64],\n",
       "       [4687,  100,  152,    5,    0,   65],\n",
       "       [4033,  300,  137,    5,    0,   64],\n",
       "       [ 330,  300,   10,    6,    0,   64],\n",
       "       [ 995,  300,   32,    6,  500,   64],\n",
       "       [3148,  100,  101,    8,    0,   65],\n",
       "       [5464,  300,  181,    4,    0,   64],\n",
       "       [2599,  200,   84,    2,    0,   64],\n",
       "       [1421,  300,   44,    7,  500,   64],\n",
       "       [3575,  200,  116,    5,  500,   64],\n",
       "       [6041,  200,  197,    3,    0,   64],\n",
       "       [4108,  200,  138,    5,  500,   64],\n",
       "       [1580,  100,   49,    5,    0,   65],\n",
       "       [ 221,  100,    7,    5,  500,   64],\n",
       "       [3881,  200,  125,    5,    0,   64],\n",
       "       [2255,  300,   72,    4,    0,   64],\n",
       "       [5195,  300,  167,    5,    0,   64],\n",
       "       [ 500,  200,    0,    5,  500,   64],\n",
       "       [2127,  200,    0,    5,    0,   64],\n",
       "       [7422,  300,  243,    5,  500,   64],\n",
       "       [4037,  200,  129,    6,    0,   64],\n",
       "       [ 702,  100,   23,    3,    0,   64],\n",
       "       [1696,  100,   55,    4,    0,   64],\n",
       "       [4061,  100,  129,    5,    0,   64],\n",
       "       [4550,  300,  150,    8,  500,   64],\n",
       "       [ 614,  300,   19,    4,  500,   64],\n",
       "       [5999,  300,  192,    6,    0,   64],\n",
       "       [4005,  300,  139,    8,  500,   64],\n",
       "       [1648,  100,   53,    3,  500,   64],\n",
       "       [4064,  300,  131,    8,  500,   64],\n",
       "       [4732,  300,  150,    6,  500,   65],\n",
       "       [ 437,  200,   14,    3,  500,   64],\n",
       "       [6314,  300,  193,    6,  500,   64],\n",
       "       [ 202,  200,    6,    8,    0,   64],\n",
       "       [5376,  300,  176,    5,  500,   64],\n",
       "       [1258,  100,   40,    6,    0,   65],\n",
       "       [ 153,  300,    0,    8,    0,   64],\n",
       "       [7102,  200,  227,    5,  500,   64],\n",
       "       [2909,  200,   93,    3,  500,   64],\n",
       "       [4421,  300,  146,    5,    0,   64],\n",
       "       [ 269,  300,    9,    6,  500,   64]], dtype=int64)"
      ]
     },
     "execution_count": 121,
     "metadata": {},
     "output_type": "execute_result"
    }
   ],
   "source": [
    "x_train"
   ]
  },
  {
   "cell_type": "markdown",
   "id": "9a0d6fa9",
   "metadata": {},
   "source": [
    "# Random Forest Algoritham"
   ]
  },
  {
   "cell_type": "code",
   "execution_count": 122,
   "id": "88ca3e8f",
   "metadata": {},
   "outputs": [
    {
     "data": {
      "text/plain": [
       "RandomForestRegressor(n_estimators=10, random_state=0)"
      ]
     },
     "execution_count": 122,
     "metadata": {},
     "output_type": "execute_result"
    }
   ],
   "source": [
    "from sklearn.ensemble import RandomForestRegressor\n",
    "d = RandomForestRegressor(n_estimators=10,random_state=0)\n",
    "d.fit(x_train,y_train)"
   ]
  },
  {
   "cell_type": "code",
   "execution_count": 123,
   "id": "bff36302",
   "metadata": {},
   "outputs": [],
   "source": [
    "ypred = d.predict(x_test)"
   ]
  },
  {
   "cell_type": "code",
   "execution_count": 124,
   "id": "076b3f86",
   "metadata": {},
   "outputs": [
    {
     "data": {
      "text/plain": [
       "array([39.9, 67.2,  7.4, 48.5, 65.8, 68.9, 11.3, 74.5, 67.3, 80. ])"
      ]
     },
     "execution_count": 124,
     "metadata": {},
     "output_type": "execute_result"
    }
   ],
   "source": [
    "ypred"
   ]
  },
  {
   "cell_type": "code",
   "execution_count": 125,
   "id": "588172f9",
   "metadata": {},
   "outputs": [
    {
     "data": {
      "text/plain": [
       "array([27, 85,  3, 56, 69, 82, 17, 79, 55, 67], dtype=int64)"
      ]
     },
     "execution_count": 125,
     "metadata": {},
     "output_type": "execute_result"
    }
   ],
   "source": [
    "y_test"
   ]
  },
  {
   "cell_type": "markdown",
   "id": "ac154378",
   "metadata": {},
   "source": [
    "# Finding Accuracy"
   ]
  },
  {
   "cell_type": "code",
   "execution_count": 126,
   "id": "65a9e3f1",
   "metadata": {},
   "outputs": [],
   "source": [
    "from sklearn.metrics import r2_score\n",
    "accuracy = r2_score(ypred,y_test)"
   ]
  },
  {
   "cell_type": "code",
   "execution_count": 127,
   "id": "bc2f1169",
   "metadata": {},
   "outputs": [
    {
     "data": {
      "text/plain": [
       "0.8151185343611204"
      ]
     },
     "execution_count": 127,
     "metadata": {},
     "output_type": "execute_result"
    }
   ],
   "source": [
    "accuracy"
   ]
  },
  {
   "cell_type": "code",
   "execution_count": 128,
   "id": "cc0d7ac4",
   "metadata": {},
   "outputs": [],
   "source": [
    "yp = d.predict([[8,307,130,3504,12,25]])"
   ]
  },
  {
   "cell_type": "code",
   "execution_count": 129,
   "id": "3cd1ad92",
   "metadata": {},
   "outputs": [
    {
     "data": {
      "text/plain": [
       "array([33.9])"
      ]
     },
     "execution_count": 129,
     "metadata": {},
     "output_type": "execute_result"
    }
   ],
   "source": [
    "yp"
   ]
  },
  {
   "cell_type": "code",
   "execution_count": 130,
   "id": "a3de413b",
   "metadata": {},
   "outputs": [],
   "source": [
    "from sklearn.compose import ColumnTransformer\n",
    "from sklearn.preprocessing import OneHotEncoder\n",
    "ct = ColumnTransformer([],remainder = \"passthrough\")\n",
    "x = ct.fit_transform(x)"
   ]
  },
  {
   "cell_type": "markdown",
   "id": "da3f9e0e",
   "metadata": {},
   "source": [
    "# Pickel File Creation"
   ]
  },
  {
   "cell_type": "code",
   "execution_count": 70,
   "id": "a9c7665c",
   "metadata": {},
   "outputs": [],
   "source": [
    "import pickle \n",
    "pickle.dump(d,open('body.pkl','wb'))"
   ]
  }
 ],
 "metadata": {
  "kernelspec": {
   "display_name": "Python 3",
   "language": "python",
   "name": "python3"
  },
  "language_info": {
   "codemirror_mode": {
    "name": "ipython",
    "version": 3
   },
   "file_extension": ".py",
   "mimetype": "text/x-python",
   "name": "python",
   "nbconvert_exporter": "python",
   "pygments_lexer": "ipython3",
   "version": "3.8.8"
  }
 },
 "nbformat": 4,
 "nbformat_minor": 5
}
